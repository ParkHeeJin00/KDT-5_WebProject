{
 "cells": [
  {
   "cell_type": "markdown",
   "metadata": {},
   "source": [
    "### 데이터 수집 <hr>"
   ]
  },
  {
   "cell_type": "code",
   "execution_count": 221,
   "metadata": {},
   "outputs": [],
   "source": [
    "import pandas as pd\n",
    "import numpy as np\n",
    "import matplotlib.pyplot as plt\n",
    "import matplotlib as mpl\n",
    "import matplotlib.font_manager as fm\n",
    "\n",
    "import os\n",
    "import requests\n",
    "import re\n",
    "import time\n",
    "import csv\n",
    "\n",
    "from selenium import webdriver\n",
    "from selenium.webdriver.common.by import By\n",
    "from selenium.webdriver.common.keys import Keys\n",
    "from selenium import webdriver\n",
    "from selenium.webdriver import ActionChains"
   ]
  },
  {
   "cell_type": "code",
   "execution_count": 111,
   "metadata": {},
   "outputs": [],
   "source": [
    "# 폰트 파일의 경로 지정\n",
    "font_path = r'C:\\Windows\\Fonts\\gulim.ttc'"
   ]
  },
  {
   "cell_type": "code",
   "execution_count": 112,
   "metadata": {},
   "outputs": [],
   "source": [
    "# matplotlib 패키지에 한글 폰트 설정\n",
    "myFont = fm.FontProperties(fname = font_path).get_name()\n",
    "mpl.rc('font', family = myFont)"
   ]
  },
  {
   "cell_type": "code",
   "execution_count": 2,
   "metadata": {},
   "outputs": [],
   "source": [
    "chrome_options = webdriver.ChromeOptions()\n",
    "chrome_options.add_argument(\"--user-data-dir=/path/to/your/chrome/profile\")\n",
    "chrome_options.add_argument(\"--disable-extensions\")  # 확장 프로그램 비활성화\n",
    "# chrome_options.add_argument('--headless')\n",
    "# chrome_options.add_argument('--no-sandbox')\n",
    "# chrome_options.add_argument('--disable-dev-shm-usage')"
   ]
  },
  {
   "cell_type": "code",
   "execution_count": 3,
   "metadata": {},
   "outputs": [],
   "source": [
    "driver = webdriver.Chrome(options=chrome_options)"
   ]
  },
  {
   "cell_type": "code",
   "execution_count": 4,
   "metadata": {},
   "outputs": [],
   "source": [
    "fieldnames = ['포스터', '제목', '장르', '러닝타임', '회원점수', '줄거리', '제작비', '수익', '감독']"
   ]
  },
  {
   "cell_type": "code",
   "execution_count": 5,
   "metadata": {},
   "outputs": [],
   "source": [
    "# CSV 파일 열기\n",
    "# with open('./DATA/movie_data2.csv', 'w', newline='', encoding='utf-8') as csvfile:\n",
    "#     writer = csv.DictWriter(csvfile, fieldnames=fieldnames)\n",
    "\n",
    "#     # 헤더 추가\n",
    "#     writer.writeheader()"
   ]
  },
  {
   "cell_type": "code",
   "execution_count": 6,
   "metadata": {},
   "outputs": [],
   "source": [
    "path = pd.read_csv('./DATA/movie_path.csv', sep='\\t')\n",
    "paths = path['-href']\n",
    "paths = paths+'?language=en-US'"
   ]
  },
  {
   "cell_type": "code",
   "execution_count": 7,
   "metadata": {},
   "outputs": [],
   "source": [
    "# 각자 할 것 \n",
    "hw_movie_paths= paths[2500:5000]\n",
    "ha_movie_paths = paths[5000:7500]\n",
    "dh_movie_paths = paths[7500:10000]"
   ]
  },
  {
   "cell_type": "code",
   "execution_count": 12,
   "metadata": {},
   "outputs": [
    {
     "name": "stdout",
     "output_type": "stream",
     "text": [
      "https://media.themoviedb.org/t/p/w300_and_h450_bestv2/thYomS3wTYDTRZaM98ADMfBiDxm.jpg\n",
      "Sleeping with Other People\n",
      "['Comedy', 'Romance']\n",
      "1h 40m\n",
      "63\n",
      "Can two serial cheaters get a second chance at love? After a one-night stand in college, New Yorkers Lainey and Jake meet by chance twelve years later and discover they each have the same problem: because of their monogamy-challenged ways, neither can maintain a relationship. Determined to stay friends despite their mutual attraction, they make a pact to keep it platonic, a deal that proves easier said than done.\n",
      "3214116.0\n",
      "None\n",
      "Leslye Headland\n",
      "https://media.themoviedb.org/t/p/w300_and_h450_bestv2/3rViQPcrWthMNecp5XnkKev6BzW.jpg\n",
      "Velvet Buzzsaw\n",
      "['Thriller', 'Mystery', 'Horror']\n",
      "1h 53m\n",
      "54\n",
      "Big money artists and mega-collectors pay a high price when art collides with commerce. After a series of paintings by an unknown artist are discovered, a supernatural force enacts revenge on those who have allowed their greed to get in the way of art.\n",
      "None\n",
      "None\n",
      "Dan Gilroy\n"
     ]
    }
   ],
   "source": [
    "# ex ) for path in paths => for path in hw_movie_paths:\n",
    "# 데이터 수집\n",
    "for path in dh_movie_paths:\n",
    "    driver.get(path)\n",
    "    time.sleep(2)\n",
    "    # 각 정보를 담을 리스트\n",
    "    poster_list = []\n",
    "    title_list = []\n",
    "    genre_list = []\n",
    "    duration_list = []\n",
    "    score_list = []\n",
    "    overview_list = []\n",
    "    budget_list = []\n",
    "    revenue_list = []\n",
    "    director_list = []\n",
    "\n",
    "    # 포스터 \n",
    "    try:\n",
    "        poster = driver.find_element(By.XPATH, '//*[@id=\"original_header\"]/div[1]/div/div[1]/div/img').get_attribute('src')\n",
    "        print(poster)\n",
    "        poster_list.append(poster)\n",
    "    except:\n",
    "        poster = None\n",
    "        print(poster)\n",
    "        poster_list.append(poster)\n",
    "\n",
    "    # 제목\n",
    "    try:\n",
    "        title = driver.find_element(By.XPATH, '//*[@id=\"original_header\"]/div[2]/section/div[1]/h2/a').text\n",
    "        print(title)\n",
    "        title_list.append(title)\n",
    "    except:\n",
    "        title = None\n",
    "        print(title)\n",
    "        title_list.append(title)\n",
    "\n",
    "    # 장르\n",
    "    try:\n",
    "        glist = []\n",
    "        genres_elements = driver.find_elements(By.XPATH, './/a[starts-with(@href, \"/genre/\")]')\n",
    "        for genre_element in genres_elements:\n",
    "            glist.append(genre_element.text)\n",
    "        print(glist)\n",
    "        genre_list.append(', '.join(glist))\n",
    "    except:\n",
    "        genre_list.append(None)\n",
    "\n",
    "    # 러닝타임\n",
    "    try:\n",
    "        duration = driver.find_element(By.CLASS_NAME, 'runtime').text\n",
    "        print(duration)\n",
    "        duration_list.append(duration)\n",
    "    except:\n",
    "        duration = None\n",
    "        print(duration)\n",
    "        duration_list.append(duration)\n",
    "\n",
    "    # 회원 점수\n",
    "    try:\n",
    "        score_element = driver.find_element(By.XPATH, '//*[@id=\"consensus_pill\"]/div/div[1]/div/div/div/span').get_attribute('class')\n",
    "        score_value = int(re.search(r'\\d+', score_element).group()) # 숫자만 추출하여 int형으로 저장\n",
    "        print(score_value)\n",
    "        score_list.append(score_value)\n",
    "    except:\n",
    "        score_value = None\n",
    "        print(score_value)\n",
    "        score_list.append(score_value)\n",
    "\n",
    "    # 개요\n",
    "    try:\n",
    "        overview = driver.find_element(By.XPATH, '//*[@id=\"original_header\"]/div[2]/section/div[3]/div/p').text\n",
    "        print(overview)\n",
    "        overview_list.append(overview)\n",
    "    except:\n",
    "        overview = None\n",
    "        print(overview)\n",
    "        overview_list.append(overview)\n",
    "\n",
    "    # 제작비\n",
    "    try:\n",
    "        budget_element = driver.find_element(By.XPATH, '//*[@id=\"media_v4\"]/div/div/div[2]/div/section/div[1]/div/section[1]/p[4]').text\n",
    "        budget_text = re.sub(r'[^\\d.]', '', budget_element)\n",
    "        budget_value = float(budget_text.rsplit('.', 1)[0] + '.' + budget_text.rsplit('.', 1)[-1])\n",
    "        print(budget_value)\n",
    "        budget_list.append(budget_value)\n",
    "    except:\n",
    "        budget_value = None\n",
    "        print(budget_value)\n",
    "        budget_list.append(budget_value)\n",
    "\n",
    "    # 수익\n",
    "    try:\n",
    "        revenue_element = driver.find_element(By.XPATH, '//*[@id=\"media_v4\"]/div/div/div[2]/div/section/div[1]/div/section[1]/p[5]').text\n",
    "        revenue_text = re.sub(r'[^\\d.]', '', revenue_element)\n",
    "        revenue_value = float(revenue_text.rsplit('.', 1)[0] + '.' + revenue_text.rsplit('.', 1)[-1])\n",
    "        print(revenue_value)\n",
    "        revenue_list.append(revenue_value)\n",
    "    except:\n",
    "        revenue_value = None\n",
    "        print(revenue_value)\n",
    "        revenue_list.append(revenue_value)\n",
    "\n",
    "    \n",
    "    # 감독\n",
    "    try:\n",
    "        director = driver.find_element(By.XPATH, '//*[@id=\"original_header\"]/div[2]/section/div[3]/ol/li[1]/p[1]').text\n",
    "        print(director)\n",
    "        director_list.append(director)\n",
    "    except:\n",
    "        director = None\n",
    "        print(director)\n",
    "        director_list.append(director)\n",
    "    \n",
    "    # 데이터 프레임 생성\n",
    "    df = pd.DataFrame({\n",
    "        '포스터': poster_list,\n",
    "        '제목': title_list,\n",
    "        '장르': genre_list,\n",
    "        '러닝타임': duration_list,\n",
    "        '회원점수': score_list,\n",
    "        '개요': overview_list,\n",
    "        '제작비': budget_list,\n",
    "        '수익': revenue_list,\n",
    "        '감독': director_list\n",
    "    })\n",
    "\n",
    "    # 데이터 프레임 저장\n",
    "    df.to_csv('./DATA/movie_data_dh.csv', mode='a', index=False, header=False)"
   ]
  },
  {
   "cell_type": "code",
   "execution_count": 27,
   "metadata": {},
   "outputs": [
    {
     "data": {
      "text/plain": [
       "0       https://media.themoviedb.org/t/p/w300_and_h450...\n",
       "1       https://media.themoviedb.org/t/p/w300_and_h450...\n",
       "2       https://media.themoviedb.org/t/p/w300_and_h450...\n",
       "3       https://media.themoviedb.org/t/p/w300_and_h450...\n",
       "4       https://media.themoviedb.org/t/p/w300_and_h450...\n",
       "                              ...                        \n",
       "2495    https://media.themoviedb.org/t/p/w300_and_h450...\n",
       "2496    https://media.themoviedb.org/t/p/w300_and_h450...\n",
       "2497    https://media.themoviedb.org/t/p/w300_and_h450...\n",
       "2498    https://media.themoviedb.org/t/p/w300_and_h450...\n",
       "2499    https://media.themoviedb.org/t/p/w300_and_h450...\n",
       "Name: 포스터, Length: 2500, dtype: object"
      ]
     },
     "execution_count": 27,
     "metadata": {},
     "output_type": "execute_result"
    }
   ],
   "source": [
    "moviedhDF = pd.read_csv('./DATA/movie_data_dh.csv')\n",
    "moviedhDF['포스터']"
   ]
  },
  {
   "cell_type": "code",
   "execution_count": 28,
   "metadata": {},
   "outputs": [
    {
     "data": {
      "text/plain": [
       "Index(['포스터', '제목', '장르', '러닝타임', '회원점수', '줄거리', '제작비', '수익', '감독'], dtype='object')"
      ]
     },
     "execution_count": 28,
     "metadata": {},
     "output_type": "execute_result"
    }
   ],
   "source": [
    "moviedhDF.columns"
   ]
  },
  {
   "cell_type": "code",
   "execution_count": 100,
   "metadata": {},
   "outputs": [
    {
     "data": {
      "text/plain": [
       "(9300, 9)"
      ]
     },
     "execution_count": 100,
     "metadata": {},
     "output_type": "execute_result"
    }
   ],
   "source": [
    "df = pd.read_csv('./DATA/movie_data_all.csv', index_col = False, header = None)\n",
    "df.shape"
   ]
  },
  {
   "cell_type": "code",
   "execution_count": 101,
   "metadata": {},
   "outputs": [
    {
     "data": {
      "text/plain": [
       "9"
      ]
     },
     "execution_count": 101,
     "metadata": {},
     "output_type": "execute_result"
    }
   ],
   "source": [
    "len(df.columns)"
   ]
  },
  {
   "cell_type": "code",
   "execution_count": 102,
   "metadata": {},
   "outputs": [],
   "source": [
    "df1 = df.iloc[:7222]"
   ]
  },
  {
   "cell_type": "code",
   "execution_count": 103,
   "metadata": {},
   "outputs": [
    {
     "data": {
      "text/html": [
       "<div>\n",
       "<style scoped>\n",
       "    .dataframe tbody tr th:only-of-type {\n",
       "        vertical-align: middle;\n",
       "    }\n",
       "\n",
       "    .dataframe tbody tr th {\n",
       "        vertical-align: top;\n",
       "    }\n",
       "\n",
       "    .dataframe thead th {\n",
       "        text-align: right;\n",
       "    }\n",
       "</style>\n",
       "<table border=\"1\" class=\"dataframe\">\n",
       "  <thead>\n",
       "    <tr style=\"text-align: right;\">\n",
       "      <th></th>\n",
       "      <th>0</th>\n",
       "      <th>1</th>\n",
       "      <th>2</th>\n",
       "      <th>3</th>\n",
       "      <th>4</th>\n",
       "      <th>5</th>\n",
       "      <th>6</th>\n",
       "      <th>7</th>\n",
       "      <th>8</th>\n",
       "    </tr>\n",
       "  </thead>\n",
       "  <tbody>\n",
       "    <tr>\n",
       "      <th>0</th>\n",
       "      <td>https://media.themoviedb.org/t/p/w300_and_h450...</td>\n",
       "      <td>Dune: Part Two</td>\n",
       "      <td>Science Fiction, Adventure</td>\n",
       "      <td>2h 47m</td>\n",
       "      <td>83.0</td>\n",
       "      <td>Follow the mythic journey of Paul Atreides as ...</td>\n",
       "      <td>666813734.0</td>\n",
       "      <td>NaN</td>\n",
       "      <td>Denis Villeneuve</td>\n",
       "    </tr>\n",
       "    <tr>\n",
       "      <th>1</th>\n",
       "      <td>https://media.themoviedb.org/t/p/w300_and_h450...</td>\n",
       "      <td>Kung Fu Panda 4</td>\n",
       "      <td>Animation, Action, Adventure, Comedy, Family</td>\n",
       "      <td>1h 34m</td>\n",
       "      <td>71.0</td>\n",
       "      <td>Po is gearing up to become the spiritual leade...</td>\n",
       "      <td>410255055.0</td>\n",
       "      <td>NaN</td>\n",
       "      <td>Mike Mitchell</td>\n",
       "    </tr>\n",
       "    <tr>\n",
       "      <th>2</th>\n",
       "      <td>https://media.themoviedb.org/t/p/w300_and_h450...</td>\n",
       "      <td>Godzilla x Kong: The New Empire</td>\n",
       "      <td>Action, Science Fiction, Adventure, Fantasy</td>\n",
       "      <td>1h 55m</td>\n",
       "      <td>67.0</td>\n",
       "      <td>Following their explosive showdown, Godzilla a...</td>\n",
       "      <td>361305986.0</td>\n",
       "      <td>NaN</td>\n",
       "      <td>Adam Wingard</td>\n",
       "    </tr>\n",
       "    <tr>\n",
       "      <th>3</th>\n",
       "      <td>https://media.themoviedb.org/t/p/w300_and_h450...</td>\n",
       "      <td>Alienoid</td>\n",
       "      <td>Science Fiction, Action, Fantasy, Adventure</td>\n",
       "      <td>2h 22m</td>\n",
       "      <td>71.0</td>\n",
       "      <td>Gurus in the late Goryeo dynasty try to obtain...</td>\n",
       "      <td>24500000.0</td>\n",
       "      <td>12600000.0</td>\n",
       "      <td>Choi Dong-hoon</td>\n",
       "    </tr>\n",
       "    <tr>\n",
       "      <th>4</th>\n",
       "      <td>https://media.themoviedb.org/t/p/w300_and_h450...</td>\n",
       "      <td>The Wages of Fear</td>\n",
       "      <td>Action, Thrillerp</td>\n",
       "      <td>1h 47m</td>\n",
       "      <td>60.0</td>\n",
       "      <td>When an explosion at an oil well threatens hun...</td>\n",
       "      <td>NaN</td>\n",
       "      <td>NaN</td>\n",
       "      <td>Julien Leclercq</td>\n",
       "    </tr>\n",
       "  </tbody>\n",
       "</table>\n",
       "</div>"
      ],
      "text/plain": [
       "                                                   0  \\\n",
       "0  https://media.themoviedb.org/t/p/w300_and_h450...   \n",
       "1  https://media.themoviedb.org/t/p/w300_and_h450...   \n",
       "2  https://media.themoviedb.org/t/p/w300_and_h450...   \n",
       "3  https://media.themoviedb.org/t/p/w300_and_h450...   \n",
       "4  https://media.themoviedb.org/t/p/w300_and_h450...   \n",
       "\n",
       "                                 1  \\\n",
       "0                   Dune: Part Two   \n",
       "1                  Kung Fu Panda 4   \n",
       "2  Godzilla x Kong: The New Empire   \n",
       "3                         Alienoid   \n",
       "4                The Wages of Fear   \n",
       "\n",
       "                                              2       3     4  \\\n",
       "0                    Science Fiction, Adventure  2h 47m  83.0   \n",
       "1  Animation, Action, Adventure, Comedy, Family  1h 34m  71.0   \n",
       "2   Action, Science Fiction, Adventure, Fantasy  1h 55m  67.0   \n",
       "3   Science Fiction, Action, Fantasy, Adventure  2h 22m  71.0   \n",
       "4                             Action, Thrillerp  1h 47m  60.0   \n",
       "\n",
       "                                                   5            6           7  \\\n",
       "0  Follow the mythic journey of Paul Atreides as ...  666813734.0         NaN   \n",
       "1  Po is gearing up to become the spiritual leade...  410255055.0         NaN   \n",
       "2  Following their explosive showdown, Godzilla a...  361305986.0         NaN   \n",
       "3  Gurus in the late Goryeo dynasty try to obtain...   24500000.0  12600000.0   \n",
       "4  When an explosion at an oil well threatens hun...          NaN         NaN   \n",
       "\n",
       "                  8  \n",
       "0  Denis Villeneuve  \n",
       "1     Mike Mitchell  \n",
       "2      Adam Wingard  \n",
       "3    Choi Dong-hoon  \n",
       "4   Julien Leclercq  "
      ]
     },
     "execution_count": 103,
     "metadata": {},
     "output_type": "execute_result"
    }
   ],
   "source": [
    "df1.head()"
   ]
  },
  {
   "cell_type": "code",
   "execution_count": 104,
   "metadata": {},
   "outputs": [
    {
     "data": {
      "text/plain": [
       "Index([0, 1, 2, 3, 4, 5, 6, 7, 8], dtype='int64')"
      ]
     },
     "execution_count": 104,
     "metadata": {},
     "output_type": "execute_result"
    }
   ],
   "source": [
    "df1.columns"
   ]
  },
  {
   "cell_type": "code",
   "execution_count": 105,
   "metadata": {},
   "outputs": [],
   "source": [
    "df1.columns = ['포스터', '제목', '장르', '러닝타임', '회원점수', '줄거리', '제작비', '수익', '감독']"
   ]
  },
  {
   "cell_type": "code",
   "execution_count": 106,
   "metadata": {},
   "outputs": [
    {
     "data": {
      "text/plain": [
       "Index(['포스터', '제목', '장르', '러닝타임', '회원점수', '줄거리', '제작비', '수익', '감독'], dtype='object')"
      ]
     },
     "execution_count": 106,
     "metadata": {},
     "output_type": "execute_result"
    }
   ],
   "source": [
    "df1.columns"
   ]
  },
  {
   "cell_type": "code",
   "execution_count": 81,
   "metadata": {},
   "outputs": [],
   "source": [
    "# 내꺼 제외한 나머지 3명의 데이터 저장\n",
    "df1.to_csv('./DATA/remainder_data.csv', index = False)"
   ]
  },
  {
   "cell_type": "code",
   "execution_count": 84,
   "metadata": {},
   "outputs": [],
   "source": [
    "df1 = pd.read_csv('./DATA/remainder_data.csv')\n",
    "df2 = pd.read_csv('./DATA/movie_data_dh.csv')"
   ]
  },
  {
   "cell_type": "code",
   "execution_count": 85,
   "metadata": {},
   "outputs": [
    {
     "data": {
      "text/plain": [
       "(9722, 9)"
      ]
     },
     "execution_count": 85,
     "metadata": {},
     "output_type": "execute_result"
    }
   ],
   "source": [
    "# 각각의 데이터를 전부 병합\n",
    "df = pd.concat([df1, df2])\n",
    "df.shape"
   ]
  },
  {
   "cell_type": "code",
   "execution_count": 87,
   "metadata": {},
   "outputs": [],
   "source": [
    "# 데이터 저장\n",
    "df.to_csv('./DATA/movie_data.csv', index = False)"
   ]
  },
  {
   "cell_type": "markdown",
   "metadata": {},
   "source": [
    "### 데이터 전처리 <hr>"
   ]
  },
  {
   "cell_type": "code",
   "execution_count": 296,
   "metadata": {},
   "outputs": [
    {
     "data": {
      "text/html": [
       "<div>\n",
       "<style scoped>\n",
       "    .dataframe tbody tr th:only-of-type {\n",
       "        vertical-align: middle;\n",
       "    }\n",
       "\n",
       "    .dataframe tbody tr th {\n",
       "        vertical-align: top;\n",
       "    }\n",
       "\n",
       "    .dataframe thead th {\n",
       "        text-align: right;\n",
       "    }\n",
       "</style>\n",
       "<table border=\"1\" class=\"dataframe\">\n",
       "  <thead>\n",
       "    <tr style=\"text-align: right;\">\n",
       "      <th></th>\n",
       "      <th>포스터</th>\n",
       "      <th>제목</th>\n",
       "      <th>장르</th>\n",
       "      <th>러닝타임</th>\n",
       "      <th>회원점수</th>\n",
       "      <th>줄거리</th>\n",
       "      <th>제작비</th>\n",
       "      <th>수익</th>\n",
       "      <th>감독</th>\n",
       "    </tr>\n",
       "  </thead>\n",
       "  <tbody>\n",
       "    <tr>\n",
       "      <th>0</th>\n",
       "      <td>https://media.themoviedb.org/t/p/w300_and_h450...</td>\n",
       "      <td>Dune: Part Two</td>\n",
       "      <td>Science Fiction, Adventure</td>\n",
       "      <td>2h 47m</td>\n",
       "      <td>83.0</td>\n",
       "      <td>Follow the mythic journey of Paul Atreides as ...</td>\n",
       "      <td>666813734.0</td>\n",
       "      <td>NaN</td>\n",
       "      <td>Denis Villeneuve</td>\n",
       "    </tr>\n",
       "    <tr>\n",
       "      <th>1</th>\n",
       "      <td>https://media.themoviedb.org/t/p/w300_and_h450...</td>\n",
       "      <td>Kung Fu Panda 4</td>\n",
       "      <td>Animation, Action, Adventure, Comedy, Family</td>\n",
       "      <td>1h 34m</td>\n",
       "      <td>71.0</td>\n",
       "      <td>Po is gearing up to become the spiritual leade...</td>\n",
       "      <td>410255055.0</td>\n",
       "      <td>NaN</td>\n",
       "      <td>Mike Mitchell</td>\n",
       "    </tr>\n",
       "    <tr>\n",
       "      <th>2</th>\n",
       "      <td>https://media.themoviedb.org/t/p/w300_and_h450...</td>\n",
       "      <td>Godzilla x Kong: The New Empire</td>\n",
       "      <td>Action, Science Fiction, Adventure, Fantasy</td>\n",
       "      <td>1h 55m</td>\n",
       "      <td>67.0</td>\n",
       "      <td>Following their explosive showdown, Godzilla a...</td>\n",
       "      <td>361305986.0</td>\n",
       "      <td>NaN</td>\n",
       "      <td>Adam Wingard</td>\n",
       "    </tr>\n",
       "    <tr>\n",
       "      <th>3</th>\n",
       "      <td>https://media.themoviedb.org/t/p/w300_and_h450...</td>\n",
       "      <td>Alienoid</td>\n",
       "      <td>Science Fiction, Action, Fantasy, Adventure</td>\n",
       "      <td>2h 22m</td>\n",
       "      <td>71.0</td>\n",
       "      <td>Gurus in the late Goryeo dynasty try to obtain...</td>\n",
       "      <td>24500000.0</td>\n",
       "      <td>12600000.0</td>\n",
       "      <td>Choi Dong-hoon</td>\n",
       "    </tr>\n",
       "    <tr>\n",
       "      <th>4</th>\n",
       "      <td>https://media.themoviedb.org/t/p/w300_and_h450...</td>\n",
       "      <td>The Wages of Fear</td>\n",
       "      <td>Action, Thrillerp</td>\n",
       "      <td>1h 47m</td>\n",
       "      <td>60.0</td>\n",
       "      <td>When an explosion at an oil well threatens hun...</td>\n",
       "      <td>NaN</td>\n",
       "      <td>NaN</td>\n",
       "      <td>Julien Leclercq</td>\n",
       "    </tr>\n",
       "  </tbody>\n",
       "</table>\n",
       "</div>"
      ],
      "text/plain": [
       "                                                 포스터  \\\n",
       "0  https://media.themoviedb.org/t/p/w300_and_h450...   \n",
       "1  https://media.themoviedb.org/t/p/w300_and_h450...   \n",
       "2  https://media.themoviedb.org/t/p/w300_and_h450...   \n",
       "3  https://media.themoviedb.org/t/p/w300_and_h450...   \n",
       "4  https://media.themoviedb.org/t/p/w300_and_h450...   \n",
       "\n",
       "                                제목  \\\n",
       "0                   Dune: Part Two   \n",
       "1                  Kung Fu Panda 4   \n",
       "2  Godzilla x Kong: The New Empire   \n",
       "3                         Alienoid   \n",
       "4                The Wages of Fear   \n",
       "\n",
       "                                             장르    러닝타임  회원점수  \\\n",
       "0                    Science Fiction, Adventure  2h 47m  83.0   \n",
       "1  Animation, Action, Adventure, Comedy, Family  1h 34m  71.0   \n",
       "2   Action, Science Fiction, Adventure, Fantasy  1h 55m  67.0   \n",
       "3   Science Fiction, Action, Fantasy, Adventure  2h 22m  71.0   \n",
       "4                             Action, Thrillerp  1h 47m  60.0   \n",
       "\n",
       "                                                 줄거리          제작비          수익  \\\n",
       "0  Follow the mythic journey of Paul Atreides as ...  666813734.0         NaN   \n",
       "1  Po is gearing up to become the spiritual leade...  410255055.0         NaN   \n",
       "2  Following their explosive showdown, Godzilla a...  361305986.0         NaN   \n",
       "3  Gurus in the late Goryeo dynasty try to obtain...   24500000.0  12600000.0   \n",
       "4  When an explosion at an oil well threatens hun...          NaN         NaN   \n",
       "\n",
       "                 감독  \n",
       "0  Denis Villeneuve  \n",
       "1     Mike Mitchell  \n",
       "2      Adam Wingard  \n",
       "3    Choi Dong-hoon  \n",
       "4   Julien Leclercq  "
      ]
     },
     "execution_count": 296,
     "metadata": {},
     "output_type": "execute_result"
    }
   ],
   "source": [
    "movieDF = pd.read_csv('./DATA/movie_data.csv')\n",
    "movieDF.head()"
   ]
  },
  {
   "cell_type": "code",
   "execution_count": 297,
   "metadata": {},
   "outputs": [
    {
     "data": {
      "text/plain": [
       "(9722, 9)"
      ]
     },
     "execution_count": 297,
     "metadata": {},
     "output_type": "execute_result"
    }
   ],
   "source": [
    "movieDF.shape"
   ]
  },
  {
   "cell_type": "code",
   "execution_count": 298,
   "metadata": {},
   "outputs": [
    {
     "name": "stdout",
     "output_type": "stream",
     "text": [
      "<class 'pandas.core.frame.DataFrame'>\n",
      "RangeIndex: 9722 entries, 0 to 9721\n",
      "Data columns (total 9 columns):\n",
      " #   Column  Non-Null Count  Dtype  \n",
      "---  ------  --------------  -----  \n",
      " 0   포스터     9704 non-null   object \n",
      " 1   제목      9721 non-null   object \n",
      " 2   장르      9692 non-null   object \n",
      " 3   러닝타임    9605 non-null   object \n",
      " 4   회원점수    9691 non-null   object \n",
      " 5   줄거리     9691 non-null   object \n",
      " 6   제작비     5917 non-null   float64\n",
      " 7   수익      902 non-null    object \n",
      " 8   감독      9690 non-null   object \n",
      "dtypes: float64(1), object(8)\n",
      "memory usage: 683.7+ KB\n"
     ]
    }
   ],
   "source": [
    "movieDF.info()"
   ]
  },
  {
   "cell_type": "markdown",
   "metadata": {},
   "source": [
    "#### 중복 데이터 처리"
   ]
  },
  {
   "cell_type": "code",
   "execution_count": 299,
   "metadata": {},
   "outputs": [
    {
     "data": {
      "text/plain": [
       "(9722, 9)"
      ]
     },
     "execution_count": 299,
     "metadata": {},
     "output_type": "execute_result"
    }
   ],
   "source": [
    "# 중복 데이터 없음\n",
    "movieDF = movieDF.drop_duplicates()\n",
    "movieDF.shape"
   ]
  },
  {
   "cell_type": "markdown",
   "metadata": {},
   "source": [
    "#### 결측치 처리"
   ]
  },
  {
   "cell_type": "code",
   "execution_count": 300,
   "metadata": {},
   "outputs": [],
   "source": [
    "# 제목 결측된 데이터는 한개=> 'non title(missing)'으로 수정\n",
    "movieDF['제목'] = movieDF['제목'].fillna('non title(missing)')"
   ]
  },
  {
   "cell_type": "code",
   "execution_count": 301,
   "metadata": {},
   "outputs": [
    {
     "data": {
      "text/plain": [
       "0"
      ]
     },
     "execution_count": 301,
     "metadata": {},
     "output_type": "execute_result"
    }
   ],
   "source": [
    "# 제목 결측 데이터 없는지 확인\n",
    "movieDF['제목'].isna().sum()"
   ]
  },
  {
   "cell_type": "code",
   "execution_count": 302,
   "metadata": {},
   "outputs": [
    {
     "data": {
      "text/plain": [
       "18"
      ]
     },
     "execution_count": 302,
     "metadata": {},
     "output_type": "execute_result"
    }
   ],
   "source": [
    "movieDF['포스터'].isna().sum()"
   ]
  },
  {
   "cell_type": "code",
   "execution_count": 303,
   "metadata": {},
   "outputs": [
    {
     "data": {
      "text/plain": [
       "18"
      ]
     },
     "execution_count": 303,
     "metadata": {},
     "output_type": "execute_result"
    }
   ],
   "source": [
    "movieDF['포스터'].isna().sum()"
   ]
  },
  {
   "cell_type": "code",
   "execution_count": 304,
   "metadata": {},
   "outputs": [],
   "source": [
    "# 포스터 결측된 데이터 제거\n",
    "movieDF.dropna(subset = ['포스터'], inplace = True)"
   ]
  },
  {
   "cell_type": "code",
   "execution_count": 305,
   "metadata": {},
   "outputs": [
    {
     "data": {
      "text/plain": [
       "0"
      ]
     },
     "execution_count": 305,
     "metadata": {},
     "output_type": "execute_result"
    }
   ],
   "source": [
    "# 포스터 결측 데이터 없는지 확인\n",
    "movieDF['포스터'].isna().sum()"
   ]
  },
  {
   "cell_type": "code",
   "execution_count": 306,
   "metadata": {},
   "outputs": [
    {
     "data": {
      "text/plain": [
       "(9704, 9)"
      ]
     },
     "execution_count": 306,
     "metadata": {},
     "output_type": "execute_result"
    }
   ],
   "source": [
    "movieDF.shape"
   ]
  },
  {
   "cell_type": "code",
   "execution_count": 314,
   "metadata": {},
   "outputs": [],
   "source": [
    "# 인덱스 정렬\n",
    "movieDF.reset_index(drop = True, inplace = True)"
   ]
  },
  {
   "cell_type": "code",
   "execution_count": 315,
   "metadata": {},
   "outputs": [
    {
     "data": {
      "text/plain": [
       "'https://media.themoviedb.org/t/p/w300_and_h450_bestv2/cdm17vK8PxHfTi7ayZf6WKbOgUO.jpg'"
      ]
     },
     "execution_count": 315,
     "metadata": {},
     "output_type": "execute_result"
    }
   ],
   "source": [
    "movieDF.loc[1382, '포스터']"
   ]
  },
  {
   "cell_type": "markdown",
   "metadata": {},
   "source": [
    "#### url을 사용하여 이미지 파일 다운로드"
   ]
  },
  {
   "cell_type": "code",
   "execution_count": 316,
   "metadata": {},
   "outputs": [],
   "source": [
    "import os\n",
    "import requests\n",
    "\n",
    "def download_image(save_folder, df = movieDF):\n",
    "    \n",
    "    try:\n",
    "        if not os.path.exists(save_folder):\n",
    "            os.makedirs(save_folder)\n",
    "            # print(f\"폴더가 생성되었습니다: {save_folder}\")\n",
    "        else:\n",
    "            print(f\"폴더가 이미 존재합니다: {save_folder}\")\n",
    "    except Exception as e:\n",
    "        print(f\"폴더 생성에 실패하였습니다: {str(e)}\")\n",
    "    \n",
    "    for ind in range(movieDF.shape[0]):\n",
    "        file_name = str(ind) + '.jpg'\n",
    "        url = df.loc[ind, '포스터']\n",
    "        save_path = os.path.join(save_folder, file_name)\n",
    "    \n",
    "        # 이미지 다운로드\n",
    "        response = requests.get(url)\n",
    "        if response.status_code == 200:\n",
    "            with open(save_path, 'wb') as f:\n",
    "                f.write(response.content)\n",
    "            #print(f\"이미지 다운로드 완료: {save_path}\")\n",
    "        else:\n",
    "            print(\"이미지를 다운로드할 수 없습니다.\")"
   ]
  },
  {
   "cell_type": "code",
   "execution_count": 317,
   "metadata": {},
   "outputs": [],
   "source": [
    "# 이미지를 저장할 폴더 경로\n",
    "save_folder = './DATA/Poster image/'\n",
    "\n",
    "download_image(save_folder)"
   ]
  }
 ],
 "metadata": {
  "kernelspec": {
   "display_name": "Torch_NLP38",
   "language": "python",
   "name": "python3"
  },
  "language_info": {
   "codemirror_mode": {
    "name": "ipython",
    "version": 3
   },
   "file_extension": ".py",
   "mimetype": "text/x-python",
   "name": "python",
   "nbconvert_exporter": "python",
   "pygments_lexer": "ipython3",
   "version": "3.9.18"
  }
 },
 "nbformat": 4,
 "nbformat_minor": 2
}
